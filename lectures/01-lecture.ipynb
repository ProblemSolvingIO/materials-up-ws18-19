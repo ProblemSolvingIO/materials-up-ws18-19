{
 "cells": [
  {
   "cell_type": "markdown",
   "metadata": {},
   "source": [
    "#### Problem Solving using Python  -  [`problemsolving.io`](https://problemsolving.io/)\n"
   ]
  },
  {
   "cell_type": "markdown",
   "metadata": {},
   "source": [
    "# Week 12 : Design Strategies - Simplification & Generalization"
   ]
  },
  {
   "cell_type": "markdown",
   "metadata": {},
   "source": [
    "## OKpy\n",
    "\n",
    "In this task OKpy is used only for submitting the homework. The testing is either already part of the notebook or you will need to write your own.\n",
    "\n",
    "Please complete this notebook by filling in the cells provided. Before you begin, execute the following cell to load the provided tests. Each time you start your server, you will need to execute this cell again to load the tests."
   ]
  },
  {
   "cell_type": "code",
   "execution_count": null,
   "metadata": {},
   "outputs": [],
   "source": [
    "# Don't change this cell; just run it.\n",
    "\n",
    "from client.api.notebook import Notebook\n",
    "ok = Notebook('miniproject.ok')\n",
    "_ = ok.auth(inline=False)"
   ]
  },
  {
   "cell_type": "markdown",
   "metadata": {},
   "source": [
    "Once you're finished, select \"Save and Checkpoint\" in the File menu and then execute the submit cell below. The result will contain a link that you can use to check that your assignment has been submitted successfully. If you submit more than once before the deadline, we will only grade your final submission."
   ]
  },
  {
   "cell_type": "code",
   "execution_count": null,
   "metadata": {},
   "outputs": [],
   "source": [
    "_ = ok.submit()"
   ]
  },
  {
   "cell_type": "markdown",
   "metadata": {},
   "source": [
    "<hr style=\"height: 10px; background-color:black;\">\n",
    "<hr style=\"height: 10px; background-color:black;\">"
   ]
  },
  {
   "cell_type": "markdown",
   "metadata": {},
   "source": [
    "# The Problem - \"World's Hardest Sudoku\" (2012)\n",
    "\n",
    "Based on [Peter Norvig](http://norvig.com/)'s essay \"Solving Every Sudoku Puzzle\"\n",
    "\n",
    "<img src=\"https://secure.i.telegraph.co.uk/multimedia/archive/02260/Untitled-1_2260717b.jpg\" />"
   ]
  },
  {
   "cell_type": "code",
   "execution_count": null,
   "metadata": {
    "scrolled": false
   },
   "outputs": [],
   "source": [
    "from IPython.display import IFrame\n",
    "IFrame('https://www.telegraph.co.uk/news/science/science-news/9359579/Worlds-hardest-sudoku-can-you-crack-it.html',\n",
    "       width=700, height=350)"
   ]
  },
  {
   "cell_type": "markdown",
   "metadata": {},
   "source": [
    "First we have to agree on some notation. A Sudoku puzzle is a *grid* of 81 squares; the majority of enthusiasts label the columns 1-9, the rows A-I, and call a collection of nine squares (column, row, or box) a *unit* and the squares that share a unit the *peers*. A puzzle leaves some squares blank and fills others with digits, and the whole idea is:\n",
    "\n",
    "### A puzzle is solved if the squares in each unit are filled with a permutation of the digits 1 to 9.\n",
    "\n",
    "That is, no digit can appear twice in a unit, and every digit must appear once. This implies that each square must have a different value from any of its peers. Here are the names of the squares, a typical puzzle, and the solution to the puzzle:\n",
    "```\n",
    " A1 A2 A3| A4 A5 A6| A7 A8 A9    4 . . |. . . |8 . 5     4 1 7 |3 6 9 |8 2 5 \n",
    " B1 B2 B3| B4 B5 B6| B7 B8 B9    . 3 . |. . . |. . .     6 3 2 |1 5 8 |9 4 7\n",
    " C1 C2 C3| C4 C5 C6| C7 C8 C9    . . . |7 . . |. . .     9 5 8 |7 2 4 |3 1 6 \n",
    "---------+---------+---------    ------+------+------    ------+------+------\n",
    " D1 D2 D3| D4 D5 D6| D7 D8 D9    . 2 . |. . . |. 6 .     8 2 5 |4 3 7 |1 6 9 \n",
    " E1 E2 E3| E4 E5 E6| E7 E8 E9    . . . |. 8 . |4 . .     7 9 1 |5 8 6 |4 3 2 \n",
    " F1 F2 F3| F4 F5 F6| F7 F8 F9    . . . |. 1 . |. . .     3 4 6 |9 1 2 |7 5 8 \n",
    "---------+---------+---------    ------+------+------    ------+------+------\n",
    " G1 G2 G3| G4 G5 G6| G7 G8 G9    . . . |6 . 3 |. 7 .     2 8 9 |6 4 3 |5 7 1 \n",
    " H1 H2 H3| H4 H5 H6| H7 H8 H9    5 . . |2 . . |. . .     5 7 3 |2 9 1 |6 8 4 \n",
    " I1 I2 I3| I4 I5 I6| I7 I8 I9    1 . 4 |. . . |. . .     1 6 4 |8 7 5 |2 9 3 \n",
    "```\n",
    "\n",
    "Every square has exactly 3 units and 20 peers. For example, here are the units and peers for the square `C2`:\n",
    "```\n",
    "    A2   |         |                    |         |            A1 A2 A3|         |         \n",
    "    B2   |         |                    |         |            B1 B2 B3|         |         \n",
    "    C2   |         |            C1 C2 C3| C4 C5 C6| C7 C8 C9   C1 C2 C3|         |         \n",
    "---------+---------+---------  ---------+---------+---------  ---------+---------+---------\n",
    "    D2   |         |                    |         |                    |         |         \n",
    "    E2   |         |                    |         |                    |         |         \n",
    "    F2   |         |                    |         |                    |         |         \n",
    "---------+---------+---------  ---------+---------+---------  ---------+---------+---------\n",
    "    G2   |         |                    |         |                    |         |         \n",
    "    H2   |         |                    |         |                    |         |         \n",
    "    I2   |         |                    |         |                    |         |         \n",
    "```"
   ]
  },
  {
   "cell_type": "markdown",
   "metadata": {},
   "source": [
    "## And Now, Let's Solve It!\n",
    "\n",
    "<div class=\"alert alert-info\">\n",
    "  <h4>Programming Problem Solving Model</h4>\n",
    "  <ol>\n",
    "    <li>Reinterpret the Problem</li>\n",
    "    <li>Design a Solution</li>\n",
    "    <li>Code</li>\n",
    "    <li>Test</li>\n",
    "    <li>Debug</li>\n",
    "    <li>Evaluate & Reflect</li>\n",
    "</ol>\n",
    "</div>\n",
    "\n",
    "<div class=\"alert alert-info\">\n",
    "  <h4>Incremental Development</h4>\n",
    "  <ul>\n",
    "    <li>Rapid cycles of <i>Problem + Design + Code + Test + Debug</i></li>\n",
    "    <li>Start small and keep it working</li>\n",
    "  </ul>\n",
    "</div>"
   ]
  },
  {
   "cell_type": "markdown",
   "metadata": {},
   "source": [
    "<a id=\"problem-phase-top\"></a>\n",
    "<div class=\"alert alert-info\">\n",
    "<h3>Reinterpret the Problem</h3>\n",
    "</div>\n",
    "\n",
    "- 9x9 grid\n",
    "- Each square filled with one digit of 1...9\n",
    "- For every unit, the digit for each square is unique / there are no two squares with the same digit\n",
    "  - Row\n",
    "  - Column\n",
    "  - Box\n",
    "- If there is no solution, return `False`"
   ]
  },
  {
   "cell_type": "markdown",
   "metadata": {},
   "source": [
    "### As Blackbox (Input/Output) - Which Represnetation?\n",
    "\n",
    "```python\n",
    "\"8..........36......7..9.2...5...7.......457.....1...3...1....68..85...1..9....4..\"\n",
    "```\n",
    "\n",
    "```python\n",
    "\"\"\"\n",
    "800000000\n",
    "003600000\n",
    "070090200\n",
    "050007000\n",
    "000045700\n",
    "000100030\n",
    "001000068\n",
    "008500010\n",
    "090000400\n",
    "\"\"\"\n",
    "```\n",
    "\n",
    "```python\n",
    "\"\"\"\n",
    "8 . . |. . . |. . . \n",
    ". . 3 |6 . . |. . . \n",
    ". 7 . |. 9 . |2 . . \n",
    "------+------+------\n",
    ". 5 . |. . 7 |. . . \n",
    ". . . |. 4 5 |7 . . \n",
    ". . . |1 . . |. 3 . \n",
    "------+------+------\n",
    ". . 1 |. . . |. 6 8 \n",
    ". . 8 |5 . . |. 1 . \n",
    ". 9 . |. . . |4 . . \n",
    "\"\"\"\n",
    "```"
   ]
  },
  {
   "cell_type": "markdown",
   "metadata": {},
   "source": [
    "<div class=\"alert alert-info\">\n",
    "<h3>Design a Solution</h3>\n",
    "</div>\n",
    "\n",
    "- I don't know how to solve Sudoku programmatically, this is too difficult!\n",
    "- What can I solve? Maybe a **simpler** problem?\n",
    "- Less \"constraints\"\n",
    "   - Row\n",
    "   - Column\n",
    "- This is a [**Latin Square**](https://en.wikipedia.org/wiki/Latin_square)!\n",
    "- So, let's solve a Latin square, this is a **simplified problem** of Soduku"
   ]
  },
  {
   "cell_type": "markdown",
   "metadata": {},
   "source": [
    "<hr style=\"height: 10px; background-color:black;\">\n",
    "\n",
    "# Simplified Problem - Latin Square\n",
    "\n",
    "<a id=\"problem-phase-top\"></a>\n",
    "<div class=\"alert alert-info\">\n",
    "<h3>Reinterpret the Problem</h3>\n",
    "</div>\n",
    "\n",
    "- 9x9 grid\n",
    "- Each square filled with one digit of 1...9\n",
    "- For every unit, the digit for each square is unique / there are no two squares with the same digit\n",
    "  - Row\n",
    "  - Column\n",
    "- If there is no solution, return `False`\n",
    "  \n",
    "<div class=\"alert alert-info\">\n",
    "<h3>Design a Solution</h3>\n",
    "</div>\n",
    "\n",
    "- I don't know how to solve  Latin Square programmatically, this is too difficult!\n",
    "- What can I solve? Maybe a **simpler** problem?\n",
    "\n",
    "#### Idea: What is the simplest Latin Square problem I can come up with?\n",
    "\n",
    "<hr style=\"height: 10px; background-color:black;\">\n",
    "\n",
    "# Even More Simplified Problem - Latin Square with only one Square Missing!\n",
    "\n",
    "\n",
    "<a id=\"problem-phase-top\"></a>\n",
    "<div class=\"alert alert-info\">\n",
    "<h3>Reinterpret the Problem</h3>\n",
    "</div>\n",
    "\n",
    "- 9x9 grid\n",
    "- Each square filled with one digit of 1...9\n",
    "- For every unit, the digit for each square is unique / there are no two squares with the same digit\n",
    "  - Row\n",
    "  - Column\n",
    "- **Only one square is unfilled**\n",
    "- If there is no solution, return `False`\n",
    "\n",
    "```python\n",
    "\"4839216579673458212518764935481.2976729564138136798245372689514814253769695417382\"\n",
    "\n",
    "\"\"\"\n",
    "4 8 3 |9 2 1 |6 5 7 \n",
    "9 6 7 |3 4 5 |8 2 1 \n",
    "2 5 1 |8 7 6 |4 9 3 \n",
    "------+------+------\n",
    "5 4 8 |1 . 2 |9 7 6 \n",
    "7 2 9 |5 6 4 |1 3 8 \n",
    "1 3 6 |7 9 8 |2 4 5 \n",
    "------+------+------\n",
    "3 7 2 |6 8 9 |5 1 4 \n",
    "8 1 4 |2 5 3 |7 6 9 \n",
    "6 9 5 |4 1 7 |3 8 2 \n",
    "\"\"\"\n",
    "```"
   ]
  },
  {
   "cell_type": "code",
   "execution_count": null,
   "metadata": {},
   "outputs": [],
   "source": [
    "even_more_grid = \"4839216579673458212518764935481.2976729564138136798245372689514814253769695417382\""
   ]
  },
  {
   "cell_type": "markdown",
   "metadata": {},
   "source": [
    "<div class=\"alert alert-info\">\n",
    "<h3>Design a Solution</h3>\n",
    "</div>\n",
    "\n",
    "\n",
    "```python\n",
    "\n",
    "def solve_even_more_simplified_latin_square(grid):\n",
    "    \n",
    "    values = parse_grid(grid)\n",
    "    \n",
    "    solved_values = solve_values(values)\n",
    "    \n",
    "    if solved_values:\n",
    "        return compose_grid(values)\n",
    "    else:\n",
    "        return False\n",
    "```\n",
    "\n",
    "<div class=\"alert alert-warning\">\n",
    "<h1>Think-Pair-Share - <code>solve_values</code> - How would you solve it?</h1>\n",
    "\n",
    "<h3>Design Aspects</h3>\n",
    "\n",
    "1. Flow - Transformation\n",
    "\n",
    "2. Data - Representation\n",
    "\n",
    "\n",
    "> \"Data dominates. If you've chosen the right data structures and organized things well, the algorithms will almost always be self-evident. Data structures, not algorithms, are central to programming.\" - Rob Pike\n",
    "\n",
    "</div>\n"
   ]
  },
  {
   "cell_type": "markdown",
   "metadata": {},
   "source": [
    "### Flow - Transformation"
   ]
  },
  {
   "cell_type": "code",
   "execution_count": null,
   "metadata": {},
   "outputs": [],
   "source": [
    "# 1. Iterate over all squares\n",
    "#    1.1. If the square is empty\n",
    "#         1.1.1 Collect the numbers in the row and colum units\n",
    "#         1.1.2 Find the missing number from the range 1..9\n",
    "#         1.1.3 If there is no such number, reuturn False\n",
    "#         1.1.3 Otherwise, assign this number to the square"
   ]
  },
  {
   "cell_type": "markdown",
   "metadata": {},
   "source": [
    "#### Breaking into sub-problems\n",
    "1. Collect the numbers in the row and column units\n",
    "2. Find the missing number from the range 1..9\n",
    "3. Assign this number to the square\n",
    "\n",
    "Therefore, it would be helpful to solve these sub-problems:  \n",
    "1. **Get the peers of a given square**\n",
    "2. **Get the values of the peers of a given square**\n",
    "3. **Find the missing number**\n",
    "\n",
    "### Data - Representation\n",
    "\n",
    "#### Options\n",
    "1. List of list of digits (str? int?)\n",
    "2. Dict of str (square, e.g. C3) to digit (str? int)\n",
    "\n",
    "### Given all of that, what would serve us the best?\n",
    "- We care only about the peers (refer to flow)\n",
    "- The 2D structure helps us to get the peers from the data strucutre itself\n",
    "- But we can also precompute all of them!\n",
    "- Then using flat data strucutre (`dict` of `str:str`) is easier than neasted one (`list` of `list` of `str`)\n",
    "\n",
    "### Verdict - values: `dict` of `str:str` (square : value)\n",
    "\n",
    "### More Reasoning\n",
    "- How can we find the missing number given the peers of a square?\n",
    "- We need:\n",
    "  - Collect numbers\n",
    "  - Remove them from 1..9\n",
    "  - We don't care about repetition\n",
    "- Data structure? `set`!\n",
    "- Therefore, **put the values of all peers in a set, and substruct it from the `set(range(1, 10))`**"
   ]
  },
  {
   "cell_type": "markdown",
   "metadata": {},
   "source": [
    "<div class=\"alert alert-info\">\n",
    "<h3>Code</h3>\n",
    "</div>"
   ]
  },
  {
   "cell_type": "code",
   "execution_count": null,
   "metadata": {},
   "outputs": [],
   "source": [
    "##   r is a row,    e.g. 'A'\n",
    "##   c is a column, e.g. '3'\n",
    "##   s is a square, e.g. 'A3'\n",
    "##   d is a digit,  e.g. '9'\n",
    "##   u is a unit,   e.g. ['A1','B1','C1','D1','E1','F1','G1','H1','I1']\n",
    "\n",
    "def cross(A, B):\n",
    "    \"Cross product of elements in A and elements in B.\"\n",
    "    return [a+b for a in A for b in B]\n",
    "\n",
    "digits   = '123456789'\n",
    "rows     = 'ABCDEFGHI'\n",
    "cols     = digits\n",
    "squares  = cross(rows, cols)\n",
    "unitlist = ([cross(rows, c) for c in cols] +\n",
    "            [cross(r, cols) for r in rows])\n",
    "\n",
    "units = dict((s, [u for u in unitlist if s in u])\n",
    "             for s in squares)\n",
    "peers = dict((s, set(sum(units[s],[]))-set([s]))\n",
    "             for s in squares)\n",
    "\n",
    "\n",
    "def generate_grid_values(grid):\n",
    "    \"Convert grid into a dict of {square: char} with '0' or '.' for empties.\"\n",
    "    chars = [ch for ch in grid if ch in digits or ch in '0.']\n",
    "    if len(chars) != 81:\n",
    "        print(grid, chars, len(chars))\n",
    "    assert len(chars) == 81\n",
    "    return dict(zip(squares, chars))\n",
    "\n",
    "\n",
    "def display(values):\n",
    "    \"Display these values as a 2-D grid.\"\n",
    "    width = 1+max(len(values[s]) for s in squares)\n",
    "    line = '+'.join(['-'*(width*3)]*3)\n",
    "    for r in rows:\n",
    "        print(''.join(values[r+c].center(width) + ('|' if c in '36' else '')\n",
    "                      for c in cols))\n",
    "        if r in 'CF': print(line)\n",
    "    print()\n",
    "    \n",
    "\n",
    "def display_set(values):\n",
    "    \"Display these values as set as a 2-D grid.\"\n",
    "    digit_values = {s: ''.join(d) for s,d in values.items()}\n",
    "    display(digit_values)"
   ]
  },
  {
   "cell_type": "code",
   "execution_count": null,
   "metadata": {},
   "outputs": [],
   "source": [
    "even_more_values = generate_grid_values(even_more_grid)\n",
    "\n",
    "even_more_values"
   ]
  },
  {
   "cell_type": "code",
   "execution_count": null,
   "metadata": {},
   "outputs": [],
   "source": [
    "display(even_more_values)"
   ]
  },
  {
   "cell_type": "markdown",
   "metadata": {},
   "source": [
    "<div class=\"alert alert-info\">\n",
    "<h3>Incremental Development - First Sub-Problem - Get the values of the peers of a given square</h3>\n",
    "</div>"
   ]
  },
  {
   "cell_type": "code",
   "execution_count": null,
   "metadata": {},
   "outputs": [],
   "source": [
    "get_peers_values('D5', even_more_values)"
   ]
  },
  {
   "cell_type": "markdown",
   "metadata": {},
   "source": [
    "<div class=\"alert alert-warning\">\n",
    "<h1>Pair Programming</h1>\n",
    "</div>"
   ]
  },
  {
   "cell_type": "markdown",
   "metadata": {},
   "source": [
    "<div class=\"alert alert-info\">\n",
    "<h3>Incremental Development - Second Sub-Problem - Find the missing number</h3>\n",
    "</div>"
   ]
  },
  {
   "cell_type": "code",
   "execution_count": null,
   "metadata": {},
   "outputs": [],
   "source": [
    "def find_missing_number(square, values):\n",
    "# YOUR CODE HERE"
   ]
  },
  {
   "cell_type": "code",
   "execution_count": null,
   "metadata": {},
   "outputs": [],
   "source": [
    "assert find_missing_number('D5', even_more_values) == '3'"
   ]
  },
  {
   "cell_type": "markdown",
   "metadata": {},
   "source": [
    "<div class=\"alert alert-info\">\n",
    "<h3>Incremental Development - Combine it all together</h3>\n",
    "</div>"
   ]
  },
  {
   "cell_type": "code",
   "execution_count": null,
   "metadata": {},
   "outputs": [],
   "source": [
    "def solve_even_more(grid):\n",
    "# YOUR CODE HERE"
   ]
  },
  {
   "cell_type": "markdown",
   "metadata": {},
   "source": [
    "<a id=\"problem-phase-top\"></a>\n",
    "<div class=\"alert alert-info\">\n",
    "<h3>Test</h3>\n",
    "</div"
   ]
  },
  {
   "cell_type": "code",
   "execution_count": null,
   "metadata": {},
   "outputs": [],
   "source": [
    "display(solve_even_more(even_more_grid))"
   ]
  },
  {
   "cell_type": "code",
   "execution_count": null,
   "metadata": {},
   "outputs": [],
   "source": [
    "even_more_grid"
   ]
  },
  {
   "cell_type": "markdown",
   "metadata": {},
   "source": [
    "<hr style=\"height: 10px; background-color:black;\">\n",
    "\n",
    "# Back to Simplified Problem - Latin Square\n",
    "\n",
    "<a id=\"problem-phase-top\"></a>\n",
    "<div class=\"alert alert-info\">\n",
    "<h3>Reinterpret the Problem</h3>\n",
    "</div>\n",
    "\n",
    "### Does our program solve the simplified problem?\n",
    "\n",
    "\n",
    "#### Only one squre is unfilled per column and row"
   ]
  },
  {
   "cell_type": "code",
   "execution_count": null,
   "metadata": {},
   "outputs": [],
   "source": [
    "latin1_grid = \"4.392165796.345821.518764935481.297672956.1381367982.5372689514814.53769695417.82\"\n",
    "\n",
    "latin1_values = generate_grid_values(latin1_grid)\n",
    "\n",
    "display(latin1_values)\n",
    "\n",
    "display(solve_even_more(latin1_grid))"
   ]
  },
  {
   "cell_type": "markdown",
   "metadata": {},
   "source": [
    "#### Only one squre is unfilled per column or row"
   ]
  },
  {
   "cell_type": "code",
   "execution_count": null,
   "metadata": {},
   "outputs": [],
   "source": [
    "latin2_grid = \"4.392165.96.345821.518764935481.297672956.1381367982.5372689514814.53769695417.82\"\n",
    "\n",
    "display(generate_grid_values(latin2_grid))\n",
    "\n",
    "display(solve_even_more(latin2_grid))"
   ]
  },
  {
   "cell_type": "markdown",
   "metadata": {},
   "source": [
    "#### More than one squre is unfilled per column or row"
   ]
  },
  {
   "cell_type": "code",
   "execution_count": null,
   "metadata": {},
   "outputs": [],
   "source": [
    "latin3_grid = \"..392165796.345821.518764935481.297672956.1381367982.5372689514814.53769695417.82\"\n",
    "\n",
    "display(generate_grid_values(latin3_grid))\n",
    "\n",
    "display(solve_even_more(latin3_grid))"
   ]
  },
  {
   "cell_type": "markdown",
   "metadata": {},
   "source": [
    "#### Two Step Solving"
   ]
  },
  {
   "cell_type": "code",
   "execution_count": null,
   "metadata": {},
   "outputs": [],
   "source": [
    "latin4_grid = \"..39.165796.345821.518764935481.297672956.1381367982.5372689514814.53769695417.82\"\n",
    "\n",
    "display(generate_grid_values(latin4_grid))\n",
    "\n",
    "display(solve_even_more(latin4_grid))"
   ]
  },
  {
   "cell_type": "markdown",
   "metadata": {},
   "source": [
    "<div class=\"alert alert-info\">\n",
    "<h3>Design a Solution</h3>\n",
    "</div>\n",
    "\n",
    "## Heuristic #1: If a square has only one possible value, then eliminate that value from the square's peers. \n",
    "\n",
    "<div class=\"alert alert-warning\">\n",
    "<h1>Think-Pair-Share - How would you solve it?</h1>\n",
    "\n",
    "<h3>Design Aspects</h3>\n",
    "\n",
    "1. Flow - Transformation\n",
    "\n",
    "2. Data - Representation\n",
    "\n",
    "</div>\n",
    "\n",
    "### Some Resoining based on the Heuristic\n",
    "1. Now we need to work with possibilites of values per square\n",
    "2. What should be the \"inner\" data strucuture?\n",
    "   1. Each square can have multiple values\n",
    "   2. Each value appears once in the possibilites\n",
    "   3. We would like to substract values in squares from each other\n",
    "   4. Ah! We've used it already in `find_missing_number`... **`set`**!\n",
    "   5. So each square is a set of digits, in other words, `values` is a  `dict` of `str:set` of `str`\n",
    "3. The **transformation** is **elimination**\n",
    "4. We start with `values` that contain:\n",
    "   1. The filled squares with one element in the set\n",
    "   2. The unfilled squares with 1..9 in the set\n",
    "5. The end game is to have only one value per square\n",
    "\n",
    "For example, the values of:\n",
    "```\n",
    "latin4_grid = \"..39.165796.345821.518764935481.297672956.1381367982.5372689514814.53769695417.82\"\n",
    "```\n",
    "\n",
    "is:\n",
    "```python\n",
    "{'A1': {'1', '2', '3', '4', '5', '6', '7', '8', '9'},\n",
    " 'A2': {'1', '2', '3', '4', '5', '6', '7', '8', '9'},\n",
    " 'A3': '3',\n",
    " 'A4': '9',\n",
    " 'A5': {'1', '2', '3', '4', '5', '6', '7', '8', '9'},\n",
    " 'A6': '1',\n",
    " 'A7': '6',\n",
    " 'A8': '5',\n",
    " 'A9': '7',\n",
    " 'B1': '9',\n",
    " 'B2': '6',\n",
    " 'B3': {'1', '2', '3', '4', '5', '6', '7', '8', '9'},\n",
    " 'B4': '3',\n",
    " 'B5': '4',\n",
    " 'B6': '5',\n",
    " 'B7': '8',\n",
    " 'B8': '2',\n",
    " 'B9': '1',\n",
    " 'C1': {'1', '2', '3', '4', '5', '6', '7', '8', '9'},\n",
    " 'C2': '5',\n",
    " 'C3': '1',\n",
    " 'C4': '8',\n",
    " 'C5': '7',\n",
    " 'C6': '6',\n",
    " 'C7': '4',\n",
    " 'C8': '9',\n",
    " 'C9': '3',\n",
    " 'D1': '5',\n",
    " 'D2': '4',\n",
    " 'D3': '8',\n",
    " 'D4': '1',\n",
    " 'D5': {'1', '2', '3', '4', '5', '6', '7', '8', '9'},\n",
    " 'D6': '2',\n",
    " 'D7': '9',\n",
    " 'D8': '7',\n",
    " 'D9': '6',\n",
    " 'E1': '7',\n",
    " 'E2': '2',\n",
    " 'E3': '9',\n",
    " 'E4': '5',\n",
    " 'E5': '6',\n",
    " 'E6': {'1', '2', '3', '4', '5', '6', '7', '8', '9'},\n",
    " 'E7': '1',\n",
    " 'E8': '3',\n",
    " 'E9': '8',\n",
    " 'F1': '1',\n",
    " 'F2': '3',\n",
    " 'F3': '6',\n",
    " 'F4': '7',\n",
    " 'F5': '9',\n",
    " 'F6': '8',\n",
    " 'F7': '2',\n",
    " 'F8': {'1', '2', '3', '4', '5', '6', '7', '8', '9'},\n",
    " 'F9': '5',\n",
    " 'G1': '3',\n",
    " 'G2': '7',\n",
    " 'G3': '2',\n",
    " 'G4': '6',\n",
    " 'G5': '8',\n",
    " 'G6': '9',\n",
    " 'G7': '5',\n",
    " 'G8': '1',\n",
    " 'G9': '4',\n",
    " 'H1': '8',\n",
    " 'H2': '1',\n",
    " 'H3': '4',\n",
    " 'H4': {'1', '2', '3', '4', '5', '6', '7', '8', '9'},\n",
    " 'H5': '5',\n",
    " 'H6': '3',\n",
    " 'H7': '7',\n",
    " 'H8': '6',\n",
    " 'H9': '9',\n",
    " 'I1': '6',\n",
    " 'I2': '9',\n",
    " 'I3': '5',\n",
    " 'I4': '4',\n",
    " 'I5': '1',\n",
    " 'I6': '7',\n",
    " 'I7': {'1', '2', '3', '4', '5', '6', '7', '8', '9'},\n",
    " 'I8': '8',\n",
    " 'I9': '2'}\n",
    "```"
   ]
  },
  {
   "cell_type": "markdown",
   "metadata": {},
   "source": [
    "<div class=\"alert alert-info\">\n",
    "<h3>Incremental Development</h3>\n",
    "</div>"
   ]
  },
  {
   "cell_type": "markdown",
   "metadata": {},
   "source": [
    "#### First attempt"
   ]
  },
  {
   "cell_type": "code",
   "execution_count": null,
   "metadata": {},
   "outputs": [],
   "source": [
    "# iterate over all the square\n",
    "  # eliminate values from the peers"
   ]
  },
  {
   "cell_type": "code",
   "execution_count": null,
   "metadata": {},
   "outputs": [],
   "source": [
    "latin4_grid = \"..39.165796.345821.518764935481.297672956.1381367982.5372689514814.53769695417.82\""
   ]
  },
  {
   "cell_type": "code",
   "execution_count": null,
   "metadata": {},
   "outputs": [],
   "source": [
    "latin4_set_values = {}\n",
    "for s, d in generate_grid_values(latin4_grid).items():\n",
    "    if d == \".\":\n",
    "        latin4_set_values[s] = set(digits)\n",
    "    else:\n",
    "        latin4_set_values[s] = set(d)"
   ]
  },
  {
   "cell_type": "code",
   "execution_count": null,
   "metadata": {},
   "outputs": [],
   "source": [
    "display_set(latin4_set_values)"
   ]
  },
  {
   "cell_type": "code",
   "execution_count": null,
   "metadata": {},
   "outputs": [],
   "source": [
    "latin4_set_values['A3']"
   ]
  },
  {
   "cell_type": "code",
   "execution_count": null,
   "metadata": {},
   "outputs": [],
   "source": [
    "for peer in peers['A3']:\n",
    "    latin4_set_values[peer] -= latin4_set_values['A3']"
   ]
  },
  {
   "cell_type": "code",
   "execution_count": null,
   "metadata": {},
   "outputs": [],
   "source": [
    "latin4_set_values['A1']"
   ]
  },
  {
   "cell_type": "code",
   "execution_count": null,
   "metadata": {},
   "outputs": [],
   "source": [
    "for s, d in latin4_set_values.items():\n",
    "    if len(d) == 1:\n",
    "        for peer in peers[s]:\n",
    "            latin4_set_values[peer] -= d"
   ]
  },
  {
   "cell_type": "code",
   "execution_count": null,
   "metadata": {},
   "outputs": [],
   "source": [
    "display_set(latin4_set_values)"
   ]
  },
  {
   "cell_type": "markdown",
   "metadata": {},
   "source": [
    "#### Second attempt"
   ]
  },
  {
   "cell_type": "code",
   "execution_count": null,
   "metadata": {},
   "outputs": [],
   "source": [
    "for s, d in latin4_set_values.items():\n",
    "    if len(d) == 1:\n",
    "        for peer in peers[s]:\n",
    "            latin4_set_values[peer] -= d"
   ]
  },
  {
   "cell_type": "code",
   "execution_count": null,
   "metadata": {},
   "outputs": [],
   "source": [
    "display_set(latin4_set_values)"
   ]
  },
  {
   "cell_type": "code",
   "execution_count": null,
   "metadata": {},
   "outputs": [],
   "source": [
    "# do until there is no change in values\n",
    "  # iterate over all the square\n",
    "    # eliminate values from the peers"
   ]
  },
  {
   "cell_type": "code",
   "execution_count": null,
   "metadata": {},
   "outputs": [],
   "source": [
    "latin4_set_values = {}\n",
    "for s, d in generate_grid_values(latin4_grid).items():\n",
    "    if d == \".\":\n",
    "        latin4_set_values[s] = set(digits)\n",
    "    else:\n",
    "        latin4_set_values[s] = set(d)"
   ]
  },
  {
   "cell_type": "code",
   "execution_count": null,
   "metadata": {},
   "outputs": [],
   "source": [
    "display_set(latin4_set_values)"
   ]
  },
  {
   "cell_type": "code",
   "execution_count": null,
   "metadata": {},
   "outputs": [],
   "source": [
    "is_changed = True\n",
    "\n",
    "while is_changed:\n",
    "    is_changed = False\n",
    "    for s, d in latin4_set_values.items():\n",
    "        if len(d) == 1:\n",
    "            for peer in peers[s]:\n",
    "                new_peer_value = latin4_set_values[peer] - d\n",
    "                if new_peer_value != latin4_set_values[peer]:\n",
    "                    is_changed = True\n",
    "                latin4_set_values[peer] -= d"
   ]
  },
  {
   "cell_type": "code",
   "execution_count": null,
   "metadata": {},
   "outputs": [],
   "source": [
    "assert all(len(d) ==  1for d in latin4_set_values.values())"
   ]
  },
  {
   "cell_type": "code",
   "execution_count": null,
   "metadata": {},
   "outputs": [],
   "source": [
    "display_set(latin4_set_values)"
   ]
  },
  {
   "cell_type": "markdown",
   "metadata": {},
   "source": [
    "<div class=\"alert alert-warning\">\n",
    "<h1>Pair Programming</h1>\n",
    "</div>"
   ]
  },
  {
   "cell_type": "code",
   "execution_count": null,
   "metadata": {},
   "outputs": [],
   "source": [
    "def generate_grid_set_values(grid):\n",
    "# YOUR CODE HERE"
   ]
  },
  {
   "cell_type": "code",
   "execution_count": null,
   "metadata": {},
   "outputs": [],
   "source": [
    "latin4_set_values = generate_grid_set_values(latin4_grid)\n",
    "\n",
    "display_set(latin4_set_values)"
   ]
  },
  {
   "cell_type": "code",
   "execution_count": null,
   "metadata": {},
   "outputs": [],
   "source": [
    "def solve_latin_square_by_peers_heuristic(set_value):\n",
    "# YOUR CODE HERE"
   ]
  },
  {
   "cell_type": "code",
   "execution_count": null,
   "metadata": {},
   "outputs": [],
   "source": [
    "display_set(solve_latin_square_by_peers_heuristic(latin4_set_values))"
   ]
  },
  {
   "cell_type": "markdown",
   "metadata": {},
   "source": [
    "<hr style=\"height: 10px; background-color:black;\">\n",
    "\n",
    "# Back to The Original Problem - Sudoku\n",
    "\n",
    "<a id=\"problem-phase-top\"></a>\n",
    "<div class=\"alert alert-info\">\n",
    "<h3>Reinterpret the Problem</h3>\n",
    "</div>\n",
    "\n",
    "### First of all - we need to add the box (=subgrid) constrains\n",
    "\n",
    "<div class=\"alert alert-warning\">\n",
    "<h1>Pair Programming</h1>\n",
    "\n",
    "Copy-paste <strong>ALL</strong> the necessary code from above.\n",
    "\n",
    "</div>"
   ]
  },
  {
   "cell_type": "code",
   "execution_count": null,
   "metadata": {},
   "outputs": [],
   "source": [
    "# YOUR CODE HERE"
   ]
  },
  {
   "cell_type": "markdown",
   "metadata": {},
   "source": [
    "### Let's try to solve a real Sudoku..."
   ]
  },
  {
   "cell_type": "code",
   "execution_count": null,
   "metadata": {},
   "outputs": [],
   "source": [
    "sudoku1_grid  = \"..3.2.6..9..3.5..1..18.64....81.29..7.......8..67.82....26.95..8..2.3..9..5.1.3..\"\n",
    "\n",
    "display(generate_grid_values(sudoku1_grid))\n",
    "\n",
    "sudoku1_set_values = generate_grid_set_values(sudoku1_grid)\n",
    "display_set(sudoku1_set_values)\n",
    "\n",
    "display_set(solve_suduko_by_peers_heuristic(sudoku1_set_values))"
   ]
  },
  {
   "cell_type": "markdown",
   "metadata": {},
   "source": [
    "### Let's try to solve another..."
   ]
  },
  {
   "cell_type": "code",
   "execution_count": null,
   "metadata": {},
   "outputs": [],
   "source": [
    "sudoku2_grid  = \"000020040008035000000070602031046970200000000000501203049000730000000010800004000\".replace('0', '.')\n",
    "\n",
    "display(generate_grid_values(sudoku2_grid))\n",
    "\n",
    "sudoku2_set_values = generate_grid_set_values(sudoku2_grid)\n",
    "display_set(sudoku2_set_values)\n",
    "\n",
    "display_set(solve_suduko_by_peers_heuristic(sudoku2_set_values, False))"
   ]
  },
  {
   "cell_type": "markdown",
   "metadata": {},
   "source": [
    "<div class=\"alert alert-info\">\n",
    "<h3>Design a Solution</h3>\n",
    "</div>\n",
    "\n",
    "## Heuristic #2: If a unit has only one possible place for a value, then put the value there.\n",
    "\n",
    "<div class=\"alert alert-warning\">\n",
    "<h1>Think-Pair-Share - How would you solve it?</h1>\n",
    "\n",
    "<h3>Design Aspects</h3>\n",
    "\n",
    "1. Flow - Transformation\n",
    "\n",
    "2. Data - Representation\n",
    "\n",
    "</div>"
   ]
  },
  {
   "cell_type": "markdown",
   "metadata": {},
   "source": [
    "<div class=\"alert alert-info\">\n",
    "<h3>Incremental Development</h3>\n",
    "</div>\n",
    "\n",
    "\n",
    "<div class=\"alert alert-warning\">\n",
    "<h1>Pair Programming</h1>\n",
    "</div>"
   ]
  },
  {
   "cell_type": "code",
   "execution_count": null,
   "metadata": {},
   "outputs": [],
   "source": []
  },
  {
   "cell_type": "markdown",
   "metadata": {},
   "source": [
    "<div class=\"alert alert-success\">\n",
    "<h3>Execute the Program and Solve the Porblem!</h3>\n",
    "</div>"
   ]
  },
  {
   "cell_type": "code",
   "execution_count": null,
   "metadata": {},
   "outputs": [],
   "source": []
  },
  {
   "cell_type": "markdown",
   "metadata": {},
   "source": [
    "<div class=\"alert alert-info\">\n",
    "<h3>Evaluate & Reflect (2 pts)</h3>\n",
    "</div>"
   ]
  },
  {
   "cell_type": "markdown",
   "metadata": {},
   "source": [
    "<div class=\"alert alert-warning\">\n",
    "  <h5>Evaluate</h5>\n",
    "\n",
    "  Evaluate your solution (=code) according to the criteria:\n",
    "  <ol>\n",
    "    <li>Functionality</li>\n",
    "    <li>Design & Code</li>\n",
    "    <li>Readability, Style & Documentation</li>\n",
    "  </ol>\n",
    "\n",
    "Write at least one paragraph.\n",
    "\n",
    "</div>"
   ]
  },
  {
   "cell_type": "markdown",
   "metadata": {},
   "source": [
    "Write your answer here..."
   ]
  },
  {
   "cell_type": "markdown",
   "metadata": {},
   "source": [
    "<div class=\"alert alert-warning\">\n",
    "<h5>Reflect</h5>\n",
    "\n",
    "Reflect on your work. Write at least one paragraph.\n",
    "</div>"
   ]
  },
  {
   "cell_type": "markdown",
   "metadata": {},
   "source": [
    "Write your answer here..."
   ]
  }
 ],
 "metadata": {
  "kernel_info": {
   "name": "python3"
  },
  "kernelspec": {
   "display_name": "Python 3",
   "language": "python",
   "name": "python3"
  },
  "language_info": {
   "codemirror_mode": {
    "name": "ipython",
    "version": 3
   },
   "file_extension": ".py",
   "mimetype": "text/x-python",
   "name": "python",
   "nbconvert_exporter": "python",
   "pygments_lexer": "ipython3",
   "version": "3.6.7"
  },
  "nteract": {
   "version": "0.12.3"
  }
 },
 "nbformat": 4,
 "nbformat_minor": 2
}
