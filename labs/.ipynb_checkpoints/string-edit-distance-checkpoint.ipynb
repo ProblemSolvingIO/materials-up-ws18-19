{
 "cells": [
  {
   "cell_type": "code",
   "execution_count": 1,
   "metadata": {},
   "outputs": [],
   "source": [
    "### HIDDEN\n",
    "\n",
    "lesson_time_plan = {\n",
    "    \"logistics\": 1,\n",
    "    \"intro to string alignment & edit distance\": 7,\n",
    "    \"Levenshtein Algorithm, bare presentation\": 10,\n",
    "    \"I solve a couple of examples recursively and dynamic programming\": 15,\n",
    "    \"blackbox tests\": 10,\n",
    "    \"design draft 1\": 3,\n",
    "    \"design critique\": 5,\n",
    "    \"design draft 2\": 3,\n",
    "    \"design draft 3, types\": 10,\n",
    "    \"coding\": 10,\n",
    "    \"adding back-pointers\": 10\n",
    "}\n",
    "\n",
    "lesson_duration = sum(lesson_time_plan.values())\n",
    "assert 80 <= lesson_duration <= 90, lesson_duration"
   ]
  },
  {
   "cell_type": "code",
   "execution_count": 2,
   "metadata": {},
   "outputs": [],
   "source": [
    "### HIDDEN\n",
    "\n",
    "# **Logistics**\n",
    "\n",
    "# - Vote on the Final exam\n",
    "# - Vote on Git vs Numpy\n",
    "# - Vote on CYK"
   ]
  },
  {
   "cell_type": "markdown",
   "metadata": {},
   "source": [
    "# String Alignment"
   ]
  },
  {
   "cell_type": "markdown",
   "metadata": {},
   "source": [
    "<img src=\"Hemagglutinin-alignments.png\" alt=\"drawing\" style=\"width:600px;\"/>"
   ]
  },
  {
   "cell_type": "markdown",
   "metadata": {},
   "source": [
    "## Edit Distance\n",
    "\n",
    "One way to align strings is to choose the ones with the shortest **edit distance**."
   ]
  },
  {
   "cell_type": "markdown",
   "metadata": {},
   "source": [
    "### Some examples:\n",
    "\n",
    "\n",
    "- cat & cap\n",
    "- god & dog\n",
    "- gripp & gripping\n",
    "- order & preordering"
   ]
  },
  {
   "cell_type": "code",
   "execution_count": 3,
   "metadata": {},
   "outputs": [],
   "source": [
    "### HIDDEN\n",
    "\n",
    "# Let's consider some examples: \n",
    "# cat vs cap MCQ: what's the edit distance here? 2, 1\n",
    "# god vs dog? 1, 2\n",
    "# grip vs gripping?  4, 5\n",
    "# order vs preordering? 5, 6\n",
    "\n",
    "\n",
    "\n",
    "# This coincidentally is also used to do spell-checking, OCR, MT!"
   ]
  },
  {
   "cell_type": "markdown",
   "metadata": {},
   "source": [
    "## Levenshtein Distance\n",
    "\n",
    "\n",
    "\n",
    "Mathematically, the Levenshtein distance between two strings $a$ , $b$ (of length $| a |$ and $| b |$ respectively) is given by $ {\\displaystyle \\operatorname {lev} _{a,b}(|a|,|b|)}$ where \n",
    "![alt](levenshtein-formula.svg)"
   ]
  },
  {
   "cell_type": "code",
   "execution_count": 4,
   "metadata": {},
   "outputs": [],
   "source": [
    "def levenshtein_distance(seq1, seq2):\n",
    "    \"\"\"Calculate the Levenshtein distance between two sequences.\n",
    "    \n",
    "    Based on an implementation from Wikipeida.\"\"\"\n",
    "    \n",
    "    # Base cases\n",
    "    if not seq1:\n",
    "        return len(seq2)\n",
    "\n",
    "    if not seq2:\n",
    "        return len(seq1)\n",
    "\n",
    "    # Test if last characters of the strings match\n",
    "    if seq1[-1] == seq2[-1]:\n",
    "        cost = 0\n",
    "    else:\n",
    "        cost = 1\n",
    "\n",
    "    # Return minimum of delete the last char from seq1,\n",
    "    # delete the last char from t,\n",
    "    # and delete the last char from both\n",
    "    return min(levenshtein_distance(seq1, seq2[:-1]) + 1,\n",
    "               levenshtein_distance(seq1[:-1], seq2) + 1,\n",
    "               levenshtein_distance(seq1[:-1], seq2[:-1]) + cost)"
   ]
  },
  {
   "cell_type": "code",
   "execution_count": 5,
   "metadata": {},
   "outputs": [
    {
     "data": {
      "text/plain": [
       "<matplotlib.axes._subplots.AxesSubplot at 0x11752b828>"
      ]
     },
     "execution_count": 5,
     "metadata": {},
     "output_type": "execute_result"
    },
    {
     "data": {
      "image/png": "[encoded data removed]",
      "text/plain": [
       "<Figure size 720x720 with 1 Axes>"
      ]
     },
     "metadata": {},
     "output_type": "display_data"
    }
   ],
   "source": [
    "%matplotlib inline\n",
    "\n",
    "dna_seq1 = 'ACCGAGAATC'\n",
    "dna_seq2 = 'TGTCACTAAA'\n",
    "\n",
    "from utils import plot_ld_runtime\n",
    "\n",
    "plot_ld_runtime(levenshtein_distance, dna_seq1, dna_seq2)"
   ]
  },
  {
   "cell_type": "code",
   "execution_count": 6,
   "metadata": {},
   "outputs": [],
   "source": [
    "### HIDDEN\n",
    "### Testing ###\n",
    "\n",
    "# Trival cases\n",
    "assert levenshtein_distance('','sitting') == 7\n",
    "assert levenshtein_distance('kitten','') == 6\n",
    "assert levenshtein_distance('','') == 0\n",
    "\n",
    "# Simplest non-trival cases\n",
    "assert levenshtein_distance('a','ab') == 1\n",
    "assert levenshtein_distance('ab','a') == 1\n",
    "assert levenshtein_distance('ab','ac') == 1\n",
    "\n",
    "# General cases\n",
    "assert levenshtein_distance('kitten','sitting') == 3\n",
    "assert levenshtein_distance('shlomi','ilia') == 5"
   ]
  },
  {
   "cell_type": "code",
   "execution_count": 7,
   "metadata": {},
   "outputs": [],
   "source": [
    "### HIDDEN\n",
    "\n",
    "# work out the algorithm in front of them for \"ab\" and \"bc\", show the repetitions!\n",
    "# Repetitions are a hint: we can use dynamic programming here\n",
    "# What is dynamic programming: you have an optimal solution at every recursive step!\n",
    "\n",
    "# Solve again, this time as a table with pointers\n",
    "# While solving, show them the INVARIANT"
   ]
  },
  {
   "cell_type": "markdown",
   "metadata": {},
   "source": [
    "<div class=\"alert alert-info\">\n",
    "  <h4>Programming Problem Solving Model</h4>\n",
    "  <ol>\n",
    "    <li>Reinterpret the Problem</li>\n",
    "    <li>Design a Solution</li>\n",
    "    <li>Code</li>\n",
    "    <li>Test</li>\n",
    "    <li>Debug</li>\n",
    "    <li>Evaluate & Reflect</li>\n",
    "</ol>\n",
    "</div>"
   ]
  },
  {
   "cell_type": "markdown",
   "metadata": {},
   "source": [
    "<a id=\"problem-phase-top\"></a>\n",
    "<div class=\"alert alert-info\">\n",
    "<h3>Reinterpret the Problem</h3>\n",
    "\n",
    "Write a short description of the problem in your own words. Make sure you discuss the input and the ouput of the program.\n",
    "</div>"
   ]
  },
  {
   "cell_type": "markdown",
   "metadata": {},
   "source": [
    "## Levenshtein Blackbox\n",
    "\n",
    "What are some cases?\n",
    "\n",
    "- one item is longer than the other (extreme case: comparing to empty string)\n",
    "- very simple cases: one char strings (matching, mismatching)"
   ]
  },
  {
   "cell_type": "code",
   "execution_count": 8,
   "metadata": {},
   "outputs": [
    {
     "ename": "NameError",
     "evalue": "name 'compute_levenshtein_distance' is not defined",
     "output_type": "error",
     "traceback": [
      "\u001b[0;31m---------------------------------------------------------------------------\u001b[0m",
      "\u001b[0;31mNameError\u001b[0m                                 Traceback (most recent call last)",
      "\u001b[0;32m<ipython-input-8-330229a8585a>\u001b[0m in \u001b[0;36m<module>\u001b[0;34m()\u001b[0m\n\u001b[1;32m      1\u001b[0m \u001b[0;31m### BEGIN SOLUTION\u001b[0m\u001b[0;34m\u001b[0m\u001b[0;34m\u001b[0m\u001b[0;34m\u001b[0m\u001b[0m\n\u001b[0;32m----> 2\u001b[0;31m \u001b[0;32massert\u001b[0m \u001b[0mcompute_levenshtein_distance\u001b[0m\u001b[0;34m(\u001b[0m\u001b[0;34m\"\"\u001b[0m\u001b[0;34m,\u001b[0m \u001b[0;34m\"abc\"\u001b[0m\u001b[0;34m)\u001b[0m \u001b[0;34m==\u001b[0m \u001b[0;36m3\u001b[0m\u001b[0;34m\u001b[0m\u001b[0;34m\u001b[0m\u001b[0m\n\u001b[0m\u001b[1;32m      3\u001b[0m \u001b[0;32massert\u001b[0m \u001b[0mcompute_levenshtein_distance\u001b[0m\u001b[0;34m(\u001b[0m\u001b[0;34m\"a\"\u001b[0m\u001b[0;34m,\u001b[0m \u001b[0;34m\"a\"\u001b[0m\u001b[0;34m)\u001b[0m \u001b[0;34m==\u001b[0m \u001b[0;36m0\u001b[0m\u001b[0;34m\u001b[0m\u001b[0;34m\u001b[0m\u001b[0m\n\u001b[1;32m      4\u001b[0m \u001b[0;32massert\u001b[0m \u001b[0mcompute_levenshtein_distance\u001b[0m\u001b[0;34m(\u001b[0m\u001b[0;34m\"a\"\u001b[0m\u001b[0;34m,\u001b[0m \u001b[0;34m\"b\"\u001b[0m\u001b[0;34m)\u001b[0m \u001b[0;34m==\u001b[0m \u001b[0;36m1\u001b[0m\u001b[0;34m\u001b[0m\u001b[0;34m\u001b[0m\u001b[0m\n\u001b[1;32m      5\u001b[0m \u001b[0;32massert\u001b[0m \u001b[0mcompute_levenshtein_distance\u001b[0m\u001b[0;34m(\u001b[0m\u001b[0;34m\"hat\"\u001b[0m\u001b[0;34m,\u001b[0m \u001b[0;34m\"cat\"\u001b[0m\u001b[0;34m)\u001b[0m \u001b[0;34m==\u001b[0m \u001b[0;36m1\u001b[0m\u001b[0;34m\u001b[0m\u001b[0;34m\u001b[0m\u001b[0m\n",
      "\u001b[0;31mNameError\u001b[0m: name 'compute_levenshtein_distance' is not defined"
     ]
    }
   ],
   "source": [
    "### BEGIN SOLUTION\n",
    "assert compute_levenshtein_distance(\"\", \"abc\") == 3\n",
    "assert compute_levenshtein_distance(\"a\", \"a\") == 0\n",
    "assert compute_levenshtein_distance(\"a\", \"b\") == 1\n",
    "assert compute_levenshtein_distance(\"hat\", \"cat\") == 1\n",
    "assert compute_levenshtein_distance(\"pat\", \"tap\") == 2\n",
    "### END SOLUTION"
   ]
  },
  {
   "cell_type": "markdown",
   "metadata": {},
   "source": [
    "<div class=\"alert alert-info\">\n",
    "<h3>Design a Solution</h3>\n",
    "</div>"
   ]
  },
  {
   "cell_type": "markdown",
   "metadata": {},
   "source": [
    "### Draft 1\n",
    "\n",
    "Write your design on a piece of paper. Try to be as clear as possible and employ your best handwriting, because you will have to show this design to a partner.\n",
    "\n",
    "\n",
    "\n",
    "### Draft 1 Critique\n",
    "\n",
    "In pairs, exchange your designs with your partner and evaluate them according to this rubrik:\n",
    "\n",
    "- Is the other's design crystal clear after **just one** reading? If not, what's unclear?\n",
    "- Imagine that you **have to** implement their design **as it is**. Would you feel comfortable doing that or would you want to tweak a thing or two? You can try writing some code if you think that will help you answer this question.\n",
    "\n",
    "\n",
    "### Draft 2\n",
    "\n",
    "Incorporate your partner's feedback.\n",
    "\n",
    "\n",
    "### Draft 3: Data structures\n",
    "\n",
    "What are the inner data structures used in your algorithm?\n",
    "\n"
   ]
  },
  {
   "cell_type": "markdown",
   "metadata": {},
   "source": [
    "<div class=\"alert alert-info\">\n",
    "<h3>Code</h3>\n",
    "</div>\n",
    "\n",
    "The final reward should be that your black-box tests pass."
   ]
  },
  {
   "cell_type": "code",
   "execution_count": 9,
   "metadata": {},
   "outputs": [],
   "source": [
    "### BEGIN SOLUTION\n",
    "### END SOLUTION"
   ]
  },
  {
   "cell_type": "markdown",
   "metadata": {},
   "source": [
    "<div class=\"alert alert-info\">\n",
    "<h3>Test</h3>\n",
    "</div>"
   ]
  },
  {
   "cell_type": "code",
   "execution_count": 10,
   "metadata": {},
   "outputs": [],
   "source": [
    "### BEGIN SOLUTION\n",
    "### END SOLUTION"
   ]
  },
  {
   "cell_type": "markdown",
   "metadata": {},
   "source": [
    "## Next Level: String Alingment\n",
    "\n",
    "Modify your matrix and algorithm so that you can not only return the edit distance between two strings but the alignment of these two strings that corresponds to the edit distance.\n",
    "\n",
    "Since Levenshtein is closely related to the [Needleman-Wunsch](https://en.wikipedia.org/wiki/Needleman–Wunsch_algorithm) string alignment algorithm you can use that as inspiration."
   ]
  },
  {
   "cell_type": "code",
   "execution_count": 11,
   "metadata": {},
   "outputs": [],
   "source": [
    "### HIDDEN\n",
    "\n",
    "# This time I rely on them to follow the system. I want to see them apply this in the wild."
   ]
  },
  {
   "cell_type": "markdown",
   "metadata": {},
   "source": [
    "<a id=\"problem-phase-top\"></a>\n",
    "<div class=\"alert alert-info\">\n",
    "<h3>Reinterpret the Problem</h3>\n",
    "</div>"
   ]
  },
  {
   "cell_type": "markdown",
   "metadata": {},
   "source": [
    "Write your answer here..."
   ]
  },
  {
   "cell_type": "markdown",
   "metadata": {},
   "source": [
    "<div class=\"alert alert-info\">\n",
    "<h3>Design a Solution</h3>\n",
    "</div>"
   ]
  },
  {
   "cell_type": "markdown",
   "metadata": {},
   "source": [
    "Write your answer here..."
   ]
  },
  {
   "cell_type": "markdown",
   "metadata": {},
   "source": [
    "<div class=\"alert alert-info\">\n",
    "<h3>Code</h3>\n",
    "</div>"
   ]
  },
  {
   "cell_type": "code",
   "execution_count": 12,
   "metadata": {},
   "outputs": [],
   "source": [
    "### BEGIN SOLUTION\n",
    "### END SOLUTION"
   ]
  },
  {
   "cell_type": "markdown",
   "metadata": {},
   "source": [
    "<div class=\"alert alert-info\">\n",
    "<h3>Test</h3>\n",
    "</div>"
   ]
  },
  {
   "cell_type": "code",
   "execution_count": 13,
   "metadata": {},
   "outputs": [],
   "source": [
    "### BEGIN SOLUTION\n",
    "### END SOLUTION"
   ]
  },
  {
   "cell_type": "markdown",
   "metadata": {},
   "source": [
    "## Sources\n",
    "https://en.wikipedia.org/wiki/Levenshtein_distance#Applications"
   ]
  }
 ],
 "metadata": {
  "kernelspec": {
   "display_name": "Python 3",
   "language": "python",
   "name": "python3"
  },
  "language_info": {
   "codemirror_mode": {
    "name": "ipython",
    "version": 3
   },
   "file_extension": ".py",
   "mimetype": "text/x-python",
   "name": "python",
   "nbconvert_exporter": "python",
   "pygments_lexer": "ipython3",
   "version": "3.6.7"
  }
 },
 "nbformat": 4,
 "nbformat_minor": 2
}
